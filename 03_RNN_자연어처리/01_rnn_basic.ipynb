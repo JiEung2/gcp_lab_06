{
 "cells": [
  {
   "cell_type": "markdown",
   "id": "c25d8ca4",
   "metadata": {},
   "source": [
    "## RNN(Recurrent Neural Network) : 순환 신경망\n",
    "#### 순서가 있는 시퀀스 데이터, time series data(시계열 데이터)를 입력하여 예측"
   ]
  },
  {
   "cell_type": "code",
   "execution_count": 1,
   "id": "a5e1aa4e",
   "metadata": {},
   "outputs": [],
   "source": [
    "import tensorflow as tf\n",
    "import numpy as np"
   ]
  },
  {
   "cell_type": "markdown",
   "id": "a2084a6a",
   "metadata": {},
   "source": [
    "### One cell: 4 (input_dim) in 2 (hidden_size)"
   ]
  },
  {
   "cell_type": "markdown",
   "id": "1b766caa",
   "metadata": {},
   "source": [
    "![image](https://cloud.githubusercontent.com/assets/901975/23348727/cc981856-fce7-11e6-83ea-4b187473466b.png)"
   ]
  },
  {
   "cell_type": "code",
   "execution_count": 2,
   "id": "806ab6e7",
   "metadata": {},
   "outputs": [],
   "source": [
    "# One hot encoding for each char in 'hello'\n",
    "h = [1, 0, 0, 0]\n",
    "e = [0, 1, 0, 0]\n",
    "l = [0, 0, 1, 0]\n",
    "o = [0, 0, 0, 1]"
   ]
  },
  {
   "cell_type": "code",
   "execution_count": 8,
   "id": "bb352d30",
   "metadata": {},
   "outputs": [
    {
     "name": "stdout",
     "output_type": "stream",
     "text": [
      "x_data: [[[1. 0. 0. 0.]]], shape: (1, 1, 4)\n",
      "outputs: [[[-0.6304771 -0.3963635]]], shape: (1, 1, 2)\n",
      "states: [[-0.6304771 -0.3963635]], shape: (1, 2)\n"
     ]
    }
   ],
   "source": [
    "# One cell RNN input_dim (4) -> output_dim (2)\n",
    "x_data = np.array([[h]],dtype=np.float32)\n",
    "\n",
    "hidden_size = 2\n",
    "\n",
    "rnn = tf.keras.layers.SimpleRNN(units=hidden_size,return_sequences=True,\n",
    "                               return_state=True)\n",
    "outputs,states = rnn(x_data)\n",
    "\n",
    "print('x_data: {}, shape: {}'.format(x_data, x_data.shape))    # (N,T,D)\n",
    "print('outputs: {}, shape: {}'.format(outputs, outputs.shape)) # (N,T,H)\n",
    "print('states: {}, shape: {}'.format(states, states.shape))    # (N,H)\n",
    "# N: batch_size, T:sequennce length, D:input dimensize, H:hidden size"
   ]
  },
  {
   "cell_type": "markdown",
   "id": "8620a430",
   "metadata": {},
   "source": [
    "### Unfolding to n sequences"
   ]
  },
  {
   "cell_type": "markdown",
   "id": "1afa3338",
   "metadata": {},
   "source": [
    "![image](https://cloud.githubusercontent.com/assets/901975/23383634/649efd0a-fd82-11e6-925d-8041242743b0.png)"
   ]
  },
  {
   "cell_type": "code",
   "execution_count": 18,
   "id": "5283ed25",
   "metadata": {},
   "outputs": [
    {
     "name": "stdout",
     "output_type": "stream",
     "text": [
      "x_data: [[[1. 0. 0. 0.]\n",
      "  [0. 1. 0. 0.]\n",
      "  [0. 0. 1. 0.]\n",
      "  [0. 0. 1. 0.]\n",
      "  [0. 0. 0. 1.]]], shape: (1, 5, 4)\n",
      "outputs: [[[-0.5066132   0.07082766]\n",
      "  [ 0.48055744 -0.28198925]\n",
      "  [ 0.21016887 -0.16778585]\n",
      "  [ 0.3134839   0.10195331]\n",
      "  [-0.64495736 -0.7188344 ]]], shape: (1, 5, 2)\n",
      "states: [[-0.64495736 -0.7188344 ]], shape: (1, 2)\n"
     ]
    }
   ],
   "source": [
    "# One cell RNN input_dim (4) -> output_dim (2), sequence: 5\n",
    "x_data = np.array([[h, e, l, l, o]], dtype=np.float32)\n",
    "\n",
    "hidden_size = 2\n",
    "\n",
    "rnn = tf.keras.layers.SimpleRNN(units=2,return_sequences=True,return_state=True)\n",
    "outputs,states = rnn(x_data)\n",
    "\n",
    "print('x_data: {}, shape: {}'.format(x_data, x_data.shape))    # (N,T,D)\n",
    "print('outputs: {}, shape: {}'.format(outputs, outputs.shape)) # (N,T,H)\n",
    "print('states: {}, shape: {}'.format(states, states.shape))    # (N,H)"
   ]
  },
  {
   "cell_type": "markdown",
   "id": "d47a3cd4",
   "metadata": {},
   "source": [
    "### Batching input"
   ]
  },
  {
   "cell_type": "markdown",
   "id": "ae708038",
   "metadata": {},
   "source": [
    "![image](https://cloud.githubusercontent.com/assets/901975/23383681/9943a9fc-fd82-11e6-8121-bd187994e249.png)"
   ]
  },
  {
   "cell_type": "code",
   "execution_count": 21,
   "id": "f6d4e3fc",
   "metadata": {},
   "outputs": [
    {
     "name": "stdout",
     "output_type": "stream",
     "text": [
      "x_data: [[[1. 0. 0. 0.]\n",
      "  [0. 1. 0. 0.]\n",
      "  [0. 0. 1. 0.]\n",
      "  [0. 0. 1. 0.]\n",
      "  [0. 0. 0. 1.]]\n",
      "\n",
      " [[0. 1. 0. 0.]\n",
      "  [0. 0. 0. 1.]\n",
      "  [0. 0. 1. 0.]\n",
      "  [0. 0. 1. 0.]\n",
      "  [0. 0. 1. 0.]]\n",
      "\n",
      " [[0. 0. 1. 0.]\n",
      "  [0. 0. 1. 0.]\n",
      "  [0. 1. 0. 0.]\n",
      "  [0. 1. 0. 0.]\n",
      "  [0. 0. 1. 0.]]], shape: (3, 5, 4)\n",
      "outputs: [[[-0.06402092 -0.22160055]\n",
      "  [ 0.65745926  0.42197907]\n",
      "  [-0.7950697   0.7534866 ]\n",
      "  [ 0.36258206  0.8489928 ]\n",
      "  [-0.7869265   0.14176713]]\n",
      "\n",
      " [[ 0.6251782   0.5876971 ]\n",
      "  [-0.87080854 -0.10714716]\n",
      "  [ 0.3970806   0.3709428 ]\n",
      "  [-0.678863    0.7255583 ]\n",
      "  [ 0.2567256   0.8424061 ]]\n",
      "\n",
      " [[-0.41818798  0.48716995]\n",
      "  [-0.0076473   0.7624009 ]\n",
      "  [ 0.6483339   0.8928053 ]\n",
      "  [ 0.12174145  0.9205812 ]\n",
      "  [-0.48485947  0.8970973 ]]], shape: (3, 5, 2)\n",
      "states: [[-0.7869265   0.14176713]\n",
      " [ 0.2567256   0.8424061 ]\n",
      " [-0.48485947  0.8970973 ]], shape: (3, 2)\n"
     ]
    }
   ],
   "source": [
    "# One cell RNN input_dim (4) -> output_dim (2). sequence: 5, batch 3\n",
    "# 3 batches 'hello', 'eolll', 'lleel'\n",
    "x_data = np.array([[h, e, l, l, o],\n",
    "                   [e, o, l, l, l],\n",
    "                   [l, l, e, e, l]], dtype=np.float32)\n",
    "\n",
    "hidden_size = 2\n",
    "\n",
    "rnn = tf.keras.layers.SimpleRNN(units=2,return_sequences=True,return_state=True)\n",
    "outputs,states = rnn(x_data)\n",
    "\n",
    "print('x_data: {}, shape: {}'.format(x_data, x_data.shape))    # (N,T,D) (3,5,4)\n",
    "print('outputs: {}, shape: {}'.format(outputs, outputs.shape)) # (N,T,H) (3,5,2)\n",
    "print('states: {}, shape: {}'.format(states, states.shape))    # (N,H) , (3,2) "
   ]
  },
  {
   "cell_type": "code",
   "execution_count": null,
   "id": "d94d7240",
   "metadata": {},
   "outputs": [],
   "source": []
  }
 ],
 "metadata": {
  "kernelspec": {
   "display_name": "Python 3 (ipykernel)",
   "language": "python",
   "name": "python3"
  },
  "language_info": {
   "codemirror_mode": {
    "name": "ipython",
    "version": 3
   },
   "file_extension": ".py",
   "mimetype": "text/x-python",
   "name": "python",
   "nbconvert_exporter": "python",
   "pygments_lexer": "ipython3",
   "version": "3.9.13"
  }
 },
 "nbformat": 4,
 "nbformat_minor": 5
}
